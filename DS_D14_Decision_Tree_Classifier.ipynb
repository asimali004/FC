{
  "nbformat": 4,
  "nbformat_minor": 0,
  "metadata": {
    "colab": {
      "name": "DS_D14_Decision_Tree_Classifier.ipynb",
      "provenance": [],
      "collapsed_sections": []
    },
    "kernelspec": {
      "name": "python3",
      "display_name": "Python 3"
    },
    "language_info": {
      "name": "python"
    }
  },
  "cells": [
    {
      "cell_type": "markdown",
      "source": [
        "Entropy\n",
        "\n",
        "Information Gain"
      ],
      "metadata": {
        "id": "cw_WLQ-beowQ"
      }
    },
    {
      "cell_type": "code",
      "execution_count": 2,
      "metadata": {
        "id": "lkB8ldbFch4u"
      },
      "outputs": [],
      "source": [
        "import numpy as np\n",
        "import pandas as pd\n",
        "import matplotlib.pyplot as plt"
      ]
    },
    {
      "cell_type": "code",
      "source": [
        "df=pd.read_csv(\"insurance.csv\")\n",
        "df.sample(5)\n",
        "df.info()\n",
        "df.describe()\n",
        "df.head(2)\n",
        "x = df.iloc[:,[0,1,2,3,5,6]]\n",
        "y = pd.DataFrame(df.iloc[:,4])\n",
        "from sklearn.preprocessing import LabelEncoder,OneHotEncoder,StandardScaler\n",
        "x.head(2)\n",
        "sc = StandardScaler()\n",
        "le = LabelEncoder()\n",
        "ohe = OneHotEncoder()\n",
        "x.iloc[:,[0,2,5]] = sc.fit_transform(pd.DataFrame(x.iloc[:,[0,2,5]]))\n",
        "x.head(2)\n",
        "dff=pd.DataFrame(ohe.fit_transform(x.iloc[:,[1,4]]).toarray())\n",
        "x = x.join(dff)\n",
        "x.head(2)\n",
        "df.region.unique()\n",
        "x.columns[[1,4]]\n",
        "x.drop(x.columns[[1,4]],axis=1,inplace=True)\n",
        "x.head(2)\n",
        "y = le.fit_transform(y)\n",
        "from sklearn.model_selection import train_test_split\n",
        "xtr,xte,ytr,yte = train_test_split(x,y,test_size=0.3)\n",
        "from sklearn.tree import DecisionTreeClassifier\n",
        "model = DecisionTreeClassifier(criterion = \"entropy\",random_state=0)\n",
        "model.fit(xtr,ytr)\n",
        "ypred = model.predict(xte)\n",
        "from sklearn.metrics import confusion_matrix\n",
        "cm = confusion_matrix(yte,ypred)\n",
        "cm\n",
        "from sklearn.metrics import accuracy_score\n",
        "acs = accuracy_score(yte,ypred)\n",
        "acs\n",
        "from sklearn.metrics import plot_confusion_matrix\n",
        "plot_confusion_matrix(model,xte,yte)\n",
        "model.score(xte,yte)"
      ],
      "metadata": {
        "id": "tTTlzrw5lYtu",
        "colab": {
          "base_uri": "https://localhost:8080/",
          "height": 872
        },
        "outputId": "46800c3e-90c1-4c76-83b3-73c292cd5adf"
      },
      "execution_count": 42,
      "outputs": [
        {
          "output_type": "stream",
          "name": "stdout",
          "text": [
            "<class 'pandas.core.frame.DataFrame'>\n",
            "RangeIndex: 1338 entries, 0 to 1337\n",
            "Data columns (total 7 columns):\n",
            " #   Column    Non-Null Count  Dtype  \n",
            "---  ------    --------------  -----  \n",
            " 0   age       1338 non-null   int64  \n",
            " 1   sex       1338 non-null   object \n",
            " 2   bmi       1338 non-null   float64\n",
            " 3   children  1338 non-null   int64  \n",
            " 4   smoker    1338 non-null   object \n",
            " 5   region    1338 non-null   object \n",
            " 6   charges   1338 non-null   float64\n",
            "dtypes: float64(2), int64(2), object(3)\n",
            "memory usage: 73.3+ KB\n"
          ]
        },
        {
          "output_type": "stream",
          "name": "stderr",
          "text": [
            "/usr/local/lib/python3.7/dist-packages/pandas/core/indexing.py:1835: SettingWithCopyWarning: \n",
            "A value is trying to be set on a copy of a slice from a DataFrame.\n",
            "Try using .loc[row_indexer,col_indexer] = value instead\n",
            "\n",
            "See the caveats in the documentation: https://pandas.pydata.org/pandas-docs/stable/user_guide/indexing.html#returning-a-view-versus-a-copy\n",
            "  self._setitem_single_column(loc, value[:, i].tolist(), pi)\n",
            "/usr/local/lib/python3.7/dist-packages/sklearn/preprocessing/_label.py:115: DataConversionWarning: A column-vector y was passed when a 1d array was expected. Please change the shape of y to (n_samples, ), for example using ravel().\n",
            "  y = column_or_1d(y, warn=True)\n",
            "/usr/local/lib/python3.7/dist-packages/sklearn/utils/validation.py:1692: FutureWarning: Feature names only support names that are all strings. Got feature names with dtypes: ['int', 'str']. An error will be raised in 1.2.\n",
            "  FutureWarning,\n",
            "/usr/local/lib/python3.7/dist-packages/sklearn/utils/validation.py:1692: FutureWarning: Feature names only support names that are all strings. Got feature names with dtypes: ['int', 'str']. An error will be raised in 1.2.\n",
            "  FutureWarning,\n",
            "/usr/local/lib/python3.7/dist-packages/sklearn/utils/deprecation.py:87: FutureWarning: Function plot_confusion_matrix is deprecated; Function `plot_confusion_matrix` is deprecated in 1.0 and will be removed in 1.2. Use one of the class methods: ConfusionMatrixDisplay.from_predictions or ConfusionMatrixDisplay.from_estimator.\n",
            "  warnings.warn(msg, category=FutureWarning)\n",
            "/usr/local/lib/python3.7/dist-packages/sklearn/utils/validation.py:1692: FutureWarning: Feature names only support names that are all strings. Got feature names with dtypes: ['int', 'str']. An error will be raised in 1.2.\n",
            "  FutureWarning,\n",
            "/usr/local/lib/python3.7/dist-packages/sklearn/utils/validation.py:1692: FutureWarning: Feature names only support names that are all strings. Got feature names with dtypes: ['int', 'str']. An error will be raised in 1.2.\n",
            "  FutureWarning,\n"
          ]
        },
        {
          "output_type": "execute_result",
          "data": {
            "text/plain": [
              "0.9626865671641791"
            ]
          },
          "metadata": {},
          "execution_count": 42
        },
        {
          "output_type": "display_data",
          "data": {
            "text/plain": [
              "<Figure size 432x288 with 2 Axes>"
            ],
            "image/png": "[encoded data removed]"
          },
          "metadata": {
            "needs_background": "light"
          }
        }
      ]
    },
    {
      "cell_type": "code",
      "source": [
        "df=pd.read_csv(\"insurance.csv\")\n",
        "df.sample(5)\n",
        "df.info()\n",
        "df.describe()\n",
        "df.head(2)\n",
        "x = df.iloc[:,[0,1,2,3,5,6]]\n",
        "y = pd.DataFrame(df.iloc[:,4])\n",
        "from sklearn.preprocessing import LabelEncoder,OneHotEncoder,StandardScaler\n",
        "x.head(2)\n",
        "sc = StandardScaler()\n",
        "le = LabelEncoder()\n",
        "ohe = OneHotEncoder()\n",
        "x.iloc[:,[0,2,5]] = sc.fit_transform(pd.DataFrame(x.iloc[:,[0,2,5]]))\n",
        "x.head(2)\n",
        "dff=pd.DataFrame(ohe.fit_transform(x.iloc[:,[1,4]]).toarray())\n",
        "x = x.join(dff)\n",
        "x.head(2)\n",
        "df.region.unique()\n",
        "x.columns[[1,4]]\n",
        "x.drop(x.columns[[1,4]],axis=1,inplace=True)\n",
        "x.head(2)\n",
        "y = le.fit_transform(y)\n",
        "from sklearn.model_selection import train_test_split\n",
        "xtr,xte,ytr,yte = train_test_split(x,y,test_size=0.3)\n",
        "from sklearn.tree import DecisionTreeClassifier\n",
        "model = DecisionTreeClassifier(criterion = \"gini\",random_state=0) #Changed\n",
        "model.fit(xtr,ytr)\n",
        "ypred = model.predict(xte)\n",
        "from sklearn.metrics import confusion_matrix\n",
        "cm = confusion_matrix(yte,ypred)\n",
        "cm\n",
        "from sklearn.metrics import accuracy_score\n",
        "acs = accuracy_score(yte,ypred)\n",
        "acs\n",
        "from sklearn.metrics import plot_confusion_matrix\n",
        "plot_confusion_matrix(model,xte,yte)\n",
        "model.score(xte,yte)"
      ],
      "metadata": {
        "id": "Ag1J3dnhjpWd",
        "colab": {
          "base_uri": "https://localhost:8080/",
          "height": 872
        },
        "outputId": "09351a7c-5a02-489f-8bf8-13b3d66d05c4"
      },
      "execution_count": 43,
      "outputs": [
        {
          "output_type": "stream",
          "name": "stdout",
          "text": [
            "<class 'pandas.core.frame.DataFrame'>\n",
            "RangeIndex: 1338 entries, 0 to 1337\n",
            "Data columns (total 7 columns):\n",
            " #   Column    Non-Null Count  Dtype  \n",
            "---  ------    --------------  -----  \n",
            " 0   age       1338 non-null   int64  \n",
            " 1   sex       1338 non-null   object \n",
            " 2   bmi       1338 non-null   float64\n",
            " 3   children  1338 non-null   int64  \n",
            " 4   smoker    1338 non-null   object \n",
            " 5   region    1338 non-null   object \n",
            " 6   charges   1338 non-null   float64\n",
            "dtypes: float64(2), int64(2), object(3)\n",
            "memory usage: 73.3+ KB\n"
          ]
        },
        {
          "output_type": "stream",
          "name": "stderr",
          "text": [
            "/usr/local/lib/python3.7/dist-packages/pandas/core/indexing.py:1835: SettingWithCopyWarning: \n",
            "A value is trying to be set on a copy of a slice from a DataFrame.\n",
            "Try using .loc[row_indexer,col_indexer] = value instead\n",
            "\n",
            "See the caveats in the documentation: https://pandas.pydata.org/pandas-docs/stable/user_guide/indexing.html#returning-a-view-versus-a-copy\n",
            "  self._setitem_single_column(loc, value[:, i].tolist(), pi)\n",
            "/usr/local/lib/python3.7/dist-packages/sklearn/preprocessing/_label.py:115: DataConversionWarning: A column-vector y was passed when a 1d array was expected. Please change the shape of y to (n_samples, ), for example using ravel().\n",
            "  y = column_or_1d(y, warn=True)\n",
            "/usr/local/lib/python3.7/dist-packages/sklearn/utils/validation.py:1692: FutureWarning: Feature names only support names that are all strings. Got feature names with dtypes: ['int', 'str']. An error will be raised in 1.2.\n",
            "  FutureWarning,\n",
            "/usr/local/lib/python3.7/dist-packages/sklearn/utils/validation.py:1692: FutureWarning: Feature names only support names that are all strings. Got feature names with dtypes: ['int', 'str']. An error will be raised in 1.2.\n",
            "  FutureWarning,\n",
            "/usr/local/lib/python3.7/dist-packages/sklearn/utils/deprecation.py:87: FutureWarning: Function plot_confusion_matrix is deprecated; Function `plot_confusion_matrix` is deprecated in 1.0 and will be removed in 1.2. Use one of the class methods: ConfusionMatrixDisplay.from_predictions or ConfusionMatrixDisplay.from_estimator.\n",
            "  warnings.warn(msg, category=FutureWarning)\n",
            "/usr/local/lib/python3.7/dist-packages/sklearn/utils/validation.py:1692: FutureWarning: Feature names only support names that are all strings. Got feature names with dtypes: ['int', 'str']. An error will be raised in 1.2.\n",
            "  FutureWarning,\n",
            "/usr/local/lib/python3.7/dist-packages/sklearn/utils/validation.py:1692: FutureWarning: Feature names only support names that are all strings. Got feature names with dtypes: ['int', 'str']. An error will be raised in 1.2.\n",
            "  FutureWarning,\n"
          ]
        },
        {
          "output_type": "execute_result",
          "data": {
            "text/plain": [
              "0.9626865671641791"
            ]
          },
          "metadata": {},
          "execution_count": 43
        },
        {
          "output_type": "display_data",
          "data": {
            "text/plain": [
              "<Figure size 432x288 with 2 Axes>"
            ],
            "image/png": "[encoded data removed]"
          },
          "metadata": {
            "needs_background": "light"
          }
        }
      ]
    },
    {
      "cell_type": "code",
      "source": [
        ""
      ],
      "metadata": {
        "id": "GfgP3__Klc_x"
      },
      "execution_count": 43,
      "outputs": []
    }
  ]
}