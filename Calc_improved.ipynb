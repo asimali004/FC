{
  "nbformat": 4,
  "nbformat_minor": 0,
  "metadata": {
    "colab": {
      "name": "Calc improved.ipynb",
      "provenance": [],
      "collapsed_sections": []
    },
    "kernelspec": {
      "name": "python3",
      "display_name": "Python 3"
    },
    "language_info": {
      "name": "python"
    }
  },
  "cells": [
    {
      "cell_type": "code",
      "metadata": {
        "id": "cOOSgLHPLkTO"
      },
      "source": [
        "import calendar\n",
        "leap_years_list=[]\n",
        "for i in range(1582,2021):\n",
        "  if calendar.isleap(i):\n",
        "    leap_years_list.append(i)"
      ],
      "execution_count": 42,
      "outputs": []
    },
    {
      "cell_type": "code",
      "metadata": {
        "colab": {
          "base_uri": "https://localhost:8080/"
        },
        "id": "GCNfZU0qNucz",
        "outputId": "75500731-ee8c-448c-d274-6b8599991871"
      },
      "source": [
        "leap_years_list"
      ],
      "execution_count": 43,
      "outputs": [
        {
          "output_type": "execute_result",
          "data": {
            "text/plain": [
              "[1584,\n",
              " 1588,\n",
              " 1592,\n",
              " 1596,\n",
              " 1600,\n",
              " 1604,\n",
              " 1608,\n",
              " 1612,\n",
              " 1616,\n",
              " 1620,\n",
              " 1624,\n",
              " 1628,\n",
              " 1632,\n",
              " 1636,\n",
              " 1640,\n",
              " 1644,\n",
              " 1648,\n",
              " 1652,\n",
              " 1656,\n",
              " 1660,\n",
              " 1664,\n",
              " 1668,\n",
              " 1672,\n",
              " 1676,\n",
              " 1680,\n",
              " 1684,\n",
              " 1688,\n",
              " 1692,\n",
              " 1696,\n",
              " 1704,\n",
              " 1708,\n",
              " 1712,\n",
              " 1716,\n",
              " 1720,\n",
              " 1724,\n",
              " 1728,\n",
              " 1732,\n",
              " 1736,\n",
              " 1740,\n",
              " 1744,\n",
              " 1748,\n",
              " 1752,\n",
              " 1756,\n",
              " 1760,\n",
              " 1764,\n",
              " 1768,\n",
              " 1772,\n",
              " 1776,\n",
              " 1780,\n",
              " 1784,\n",
              " 1788,\n",
              " 1792,\n",
              " 1796,\n",
              " 1804,\n",
              " 1808,\n",
              " 1812,\n",
              " 1816,\n",
              " 1820,\n",
              " 1824,\n",
              " 1828,\n",
              " 1832,\n",
              " 1836,\n",
              " 1840,\n",
              " 1844,\n",
              " 1848,\n",
              " 1852,\n",
              " 1856,\n",
              " 1860,\n",
              " 1864,\n",
              " 1868,\n",
              " 1872,\n",
              " 1876,\n",
              " 1880,\n",
              " 1884,\n",
              " 1888,\n",
              " 1892,\n",
              " 1896,\n",
              " 1904,\n",
              " 1908,\n",
              " 1912,\n",
              " 1916,\n",
              " 1920,\n",
              " 1924,\n",
              " 1928,\n",
              " 1932,\n",
              " 1936,\n",
              " 1940,\n",
              " 1944,\n",
              " 1948,\n",
              " 1952,\n",
              " 1956,\n",
              " 1960,\n",
              " 1964,\n",
              " 1968,\n",
              " 1972,\n",
              " 1976,\n",
              " 1980,\n",
              " 1984,\n",
              " 1988,\n",
              " 1992,\n",
              " 1996,\n",
              " 2000,\n",
              " 2004,\n",
              " 2008,\n",
              " 2012,\n",
              " 2016,\n",
              " 2020]"
            ]
          },
          "metadata": {},
          "execution_count": 43
        }
      ]
    },
    {
      "cell_type": "code",
      "metadata": {
        "id": "1xtj-uGONvHf"
      },
      "source": [
        "days=0\n",
        "for i in range(1582,2020):\n",
        "  if i in leap_years_list:\n",
        "    d=366\n",
        "  else:\n",
        "    d=365\n",
        "  days=days+d"
      ],
      "execution_count": 44,
      "outputs": []
    },
    {
      "cell_type": "code",
      "metadata": {
        "id": "WKNryvO1Qa7X"
      },
      "source": [
        "from datetime import date\n",
        "\n",
        "d = date.today() - date(2021,1,1)\n",
        "\n",
        "days = days + d.days"
      ],
      "execution_count": 45,
      "outputs": []
    },
    {
      "cell_type": "code",
      "metadata": {
        "colab": {
          "base_uri": "https://localhost:8080/"
        },
        "id": "XUKkybtfiKrK",
        "outputId": "981eb95e-6704-4a4e-c385-ab332cf8bf35"
      },
      "source": [
        "days"
      ],
      "execution_count": 46,
      "outputs": [
        {
          "output_type": "execute_result",
          "data": {
            "text/plain": [
              "160316"
            ]
          },
          "metadata": {},
          "execution_count": 46
        }
      ]
    },
    {
      "cell_type": "code",
      "metadata": {
        "id": "IrsajzuYRas3"
      },
      "source": [
        "seconds=86400*days"
      ],
      "execution_count": 47,
      "outputs": []
    },
    {
      "cell_type": "code",
      "metadata": {
        "colab": {
          "base_uri": "https://localhost:8080/"
        },
        "id": "19DxsQOQSK3P",
        "outputId": "bb57c0a2-c85b-424f-e314-b3dd4b42fc20"
      },
      "source": [
        "seconds"
      ],
      "execution_count": 48,
      "outputs": [
        {
          "output_type": "execute_result",
          "data": {
            "text/plain": [
              "13851302400"
            ]
          },
          "metadata": {},
          "execution_count": 48
        }
      ]
    },
    {
      "cell_type": "code",
      "metadata": {
        "id": "iPzRATeqSNAE"
      },
      "source": [
        "frequency=1/seconds"
      ],
      "execution_count": 49,
      "outputs": []
    },
    {
      "cell_type": "code",
      "metadata": {
        "colab": {
          "base_uri": "https://localhost:8080/"
        },
        "id": "gj-v0gGaSU2M",
        "outputId": "882a60ac-ce83-4260-b715-6ef83a538088"
      },
      "source": [
        "frequency"
      ],
      "execution_count": 50,
      "outputs": [
        {
          "output_type": "execute_result",
          "data": {
            "text/plain": [
              "7.219537709320389e-11"
            ]
          },
          "metadata": {},
          "execution_count": 50
        }
      ]
    },
    {
      "cell_type": "code",
      "metadata": {
        "id": "vdJ2WXAPSW39"
      },
      "source": [
        ""
      ],
      "execution_count": 50,
      "outputs": []
    }
  ]
}