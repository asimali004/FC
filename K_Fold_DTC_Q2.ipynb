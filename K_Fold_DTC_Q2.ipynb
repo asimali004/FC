{
  "nbformat": 4,
  "nbformat_minor": 0,
  "metadata": {
    "colab": {
      "name": "K_Fold_Q2.ipynb",
      "provenance": [],
      "collapsed_sections": []
    },
    "kernelspec": {
      "name": "python3",
      "display_name": "Python 3"
    },
    "language_info": {
      "name": "python"
    },
    "accelerator": "GPU",
    "gpuClass": "standard"
  },
  "cells": [
    {
      "cell_type": "code",
      "execution_count": 1,
      "metadata": {
        "id": "V4ZjnXRjH-qZ"
      },
      "outputs": [],
      "source": [
        "import numpy as np\n",
        "import pandas as pd\n",
        "import matplotlib.pyplot as plt"
      ]
    },
    {
      "cell_type": "code",
      "source": [
        "df = pd.read_csv(\"/content/final.q2.train.csv\")"
      ],
      "metadata": {
        "id": "LQsJino9Iu9Q"
      },
      "execution_count": 2,
      "outputs": []
    },
    {
      "cell_type": "code",
      "source": [
        "df.describe()"
      ],
      "metadata": {
        "colab": {
          "base_uri": "https://localhost:8080/",
          "height": 394
        },
        "id": "hS7zr8H4Jd9W",
        "outputId": "b96974d9-3550-4382-f85b-e75f21423823"
      },
      "execution_count": 3,
      "outputs": [
        {
          "output_type": "execute_result",
          "data": {
            "text/plain": [
              "                 y           x1           x2           x3           x4  \\\n",
              "count  8000.000000  8000.000000  8000.000000  8000.000000  8000.000000   \n",
              "mean      0.492000     0.496577     0.504497     0.503644     0.499688   \n",
              "std       0.499967     0.287121     0.291160     0.286889     0.291093   \n",
              "min       0.000000     0.000000     0.000000     0.000000     0.000000   \n",
              "25%       0.000000     0.249000     0.248000     0.258000     0.247000   \n",
              "50%       0.000000     0.494000     0.508000     0.505000     0.503000   \n",
              "75%       1.000000     0.741000     0.763000     0.750000     0.752000   \n",
              "max       1.000000     1.000000     1.000000     1.000000     1.000000   \n",
              "\n",
              "                x5           x6           x7           x8           x9  ...  \\\n",
              "count  8000.000000  8000.000000  8000.000000  8000.000000  8000.000000  ...   \n",
              "mean      0.502624     0.497589     0.498213     0.494206     0.497381  ...   \n",
              "std       0.288685     0.290412     0.287703     0.290521     0.288065  ...   \n",
              "min       0.000000     0.000000     0.000000     0.000000     0.000000  ...   \n",
              "25%       0.249000     0.245000     0.249000     0.240000     0.250000  ...   \n",
              "50%       0.509000     0.496500     0.498000     0.490000     0.495000  ...   \n",
              "75%       0.753000     0.747250     0.743250     0.751000     0.745250  ...   \n",
              "max       1.000000     1.000000     1.000000     1.000000     1.000000  ...   \n",
              "\n",
              "               x31          x32          x33          x34         x35  \\\n",
              "count  8000.000000  8000.000000  8000.000000  8000.000000  8000.00000   \n",
              "mean      0.498190     0.496857     0.500988     0.502277     0.49709   \n",
              "std       0.287018     0.288755     0.287639     0.287633     0.28798   \n",
              "min       0.000000     0.000000     0.000000     0.000000     0.00000   \n",
              "25%       0.252750     0.244750     0.249000     0.255000     0.25000   \n",
              "50%       0.495000     0.492000     0.503000     0.500000     0.49000   \n",
              "75%       0.741250     0.747000     0.748250     0.753250     0.74200   \n",
              "max       1.000000     1.000000     1.000000     1.000000     1.00000   \n",
              "\n",
              "               x36          x37          x38          x39          x40  \n",
              "count  8000.000000  8000.000000  8000.000000  8000.000000  8000.000000  \n",
              "mean      0.498792     0.498323     0.502123     0.499752     0.498606  \n",
              "std       0.289095     0.288639     0.288049     0.287737     0.287341  \n",
              "min       0.000000     0.000000     0.000000     0.000000     0.000000  \n",
              "25%       0.248000     0.248750     0.252000     0.253000     0.250000  \n",
              "50%       0.498000     0.496000     0.500000     0.501000     0.501000  \n",
              "75%       0.748000     0.746000     0.755000     0.747000     0.744000  \n",
              "max       1.000000     1.000000     1.000000     1.000000     1.000000  \n",
              "\n",
              "[8 rows x 41 columns]"
            ],
            "text/html": [
              "\n",
              "  <div id=\"df-46bbc86b-4ea9-4838-a88c-0eb29a708bc3\">\n",
              "    <div class=\"colab-df-container\">\n",
              "      <div>\n",
              "<style scoped>\n",
              "    .dataframe tbody tr th:only-of-type {\n",
              "        vertical-align: middle;\n",
              "    }\n",
              "\n",
              "    .dataframe tbody tr th {\n",
              "        vertical-align: top;\n",
              "    }\n",
              "\n",
              "    .dataframe thead th {\n",
              "        text-align: right;\n",
              "    }\n",
              "</style>\n",
              "<table border=\"1\" class=\"dataframe\">\n",
              "  <thead>\n",
              "    <tr style=\"text-align: right;\">\n",
              "      <th></th>\n",
              "      <th>y</th>\n",
              "      <th>x1</th>\n",
              "      <th>x2</th>\n",
              "      <th>x3</th>\n",
              "      <th>x4</th>\n",
              "      <th>x5</th>\n",
              "      <th>x6</th>\n",
              "      <th>x7</th>\n",
              "      <th>x8</th>\n",
              "      <th>x9</th>\n",
              "      <th>...</th>\n",
              "      <th>x31</th>\n",
              "      <th>x32</th>\n",
              "      <th>x33</th>\n",
              "      <th>x34</th>\n",
              "      <th>x35</th>\n",
              "      <th>x36</th>\n",
              "      <th>x37</th>\n",
              "      <th>x38</th>\n",
              "      <th>x39</th>\n",
              "      <th>x40</th>\n",
              "    </tr>\n",
              "  </thead>\n",
              "  <tbody>\n",
              "    <tr>\n",
              "      <th>count</th>\n",
              "      <td>8000.000000</td>\n",
              "      <td>8000.000000</td>\n",
              "      <td>8000.000000</td>\n",
              "      <td>8000.000000</td>\n",
              "      <td>8000.000000</td>\n",
              "      <td>8000.000000</td>\n",
              "      <td>8000.000000</td>\n",
              "      <td>8000.000000</td>\n",
              "      <td>8000.000000</td>\n",
              "      <td>8000.000000</td>\n",
              "      <td>...</td>\n",
              "      <td>8000.000000</td>\n",
              "      <td>8000.000000</td>\n",
              "      <td>8000.000000</td>\n",
              "      <td>8000.000000</td>\n",
              "      <td>8000.00000</td>\n",
              "      <td>8000.000000</td>\n",
              "      <td>8000.000000</td>\n",
              "      <td>8000.000000</td>\n",
              "      <td>8000.000000</td>\n",
              "      <td>8000.000000</td>\n",
              "    </tr>\n",
              "    <tr>\n",
              "      <th>mean</th>\n",
              "      <td>0.492000</td>\n",
              "      <td>0.496577</td>\n",
              "      <td>0.504497</td>\n",
              "      <td>0.503644</td>\n",
              "      <td>0.499688</td>\n",
              "      <td>0.502624</td>\n",
              "      <td>0.497589</td>\n",
              "      <td>0.498213</td>\n",
              "      <td>0.494206</td>\n",
              "      <td>0.497381</td>\n",
              "      <td>...</td>\n",
              "      <td>0.498190</td>\n",
              "      <td>0.496857</td>\n",
              "      <td>0.500988</td>\n",
              "      <td>0.502277</td>\n",
              "      <td>0.49709</td>\n",
              "      <td>0.498792</td>\n",
              "      <td>0.498323</td>\n",
              "      <td>0.502123</td>\n",
              "      <td>0.499752</td>\n",
              "      <td>0.498606</td>\n",
              "    </tr>\n",
              "    <tr>\n",
              "      <th>std</th>\n",
              "      <td>0.499967</td>\n",
              "      <td>0.287121</td>\n",
              "      <td>0.291160</td>\n",
              "      <td>0.286889</td>\n",
              "      <td>0.291093</td>\n",
              "      <td>0.288685</td>\n",
              "      <td>0.290412</td>\n",
              "      <td>0.287703</td>\n",
              "      <td>0.290521</td>\n",
              "      <td>0.288065</td>\n",
              "      <td>...</td>\n",
              "      <td>0.287018</td>\n",
              "      <td>0.288755</td>\n",
              "      <td>0.287639</td>\n",
              "      <td>0.287633</td>\n",
              "      <td>0.28798</td>\n",
              "      <td>0.289095</td>\n",
              "      <td>0.288639</td>\n",
              "      <td>0.288049</td>\n",
              "      <td>0.287737</td>\n",
              "      <td>0.287341</td>\n",
              "    </tr>\n",
              "    <tr>\n",
              "      <th>min</th>\n",
              "      <td>0.000000</td>\n",
              "      <td>0.000000</td>\n",
              "      <td>0.000000</td>\n",
              "      <td>0.000000</td>\n",
              "      <td>0.000000</td>\n",
              "      <td>0.000000</td>\n",
              "      <td>0.000000</td>\n",
              "      <td>0.000000</td>\n",
              "      <td>0.000000</td>\n",
              "      <td>0.000000</td>\n",
              "      <td>...</td>\n",
              "      <td>0.000000</td>\n",
              "      <td>0.000000</td>\n",
              "      <td>0.000000</td>\n",
              "      <td>0.000000</td>\n",
              "      <td>0.00000</td>\n",
              "      <td>0.000000</td>\n",
              "      <td>0.000000</td>\n",
              "      <td>0.000000</td>\n",
              "      <td>0.000000</td>\n",
              "      <td>0.000000</td>\n",
              "    </tr>\n",
              "    <tr>\n",
              "      <th>25%</th>\n",
              "      <td>0.000000</td>\n",
              "      <td>0.249000</td>\n",
              "      <td>0.248000</td>\n",
              "      <td>0.258000</td>\n",
              "      <td>0.247000</td>\n",
              "      <td>0.249000</td>\n",
              "      <td>0.245000</td>\n",
              "      <td>0.249000</td>\n",
              "      <td>0.240000</td>\n",
              "      <td>0.250000</td>\n",
              "      <td>...</td>\n",
              "      <td>0.252750</td>\n",
              "      <td>0.244750</td>\n",
              "      <td>0.249000</td>\n",
              "      <td>0.255000</td>\n",
              "      <td>0.25000</td>\n",
              "      <td>0.248000</td>\n",
              "      <td>0.248750</td>\n",
              "      <td>0.252000</td>\n",
              "      <td>0.253000</td>\n",
              "      <td>0.250000</td>\n",
              "    </tr>\n",
              "    <tr>\n",
              "      <th>50%</th>\n",
              "      <td>0.000000</td>\n",
              "      <td>0.494000</td>\n",
              "      <td>0.508000</td>\n",
              "      <td>0.505000</td>\n",
              "      <td>0.503000</td>\n",
              "      <td>0.509000</td>\n",
              "      <td>0.496500</td>\n",
              "      <td>0.498000</td>\n",
              "      <td>0.490000</td>\n",
              "      <td>0.495000</td>\n",
              "      <td>...</td>\n",
              "      <td>0.495000</td>\n",
              "      <td>0.492000</td>\n",
              "      <td>0.503000</td>\n",
              "      <td>0.500000</td>\n",
              "      <td>0.49000</td>\n",
              "      <td>0.498000</td>\n",
              "      <td>0.496000</td>\n",
              "      <td>0.500000</td>\n",
              "      <td>0.501000</td>\n",
              "      <td>0.501000</td>\n",
              "    </tr>\n",
              "    <tr>\n",
              "      <th>75%</th>\n",
              "      <td>1.000000</td>\n",
              "      <td>0.741000</td>\n",
              "      <td>0.763000</td>\n",
              "      <td>0.750000</td>\n",
              "      <td>0.752000</td>\n",
              "      <td>0.753000</td>\n",
              "      <td>0.747250</td>\n",
              "      <td>0.743250</td>\n",
              "      <td>0.751000</td>\n",
              "      <td>0.745250</td>\n",
              "      <td>...</td>\n",
              "      <td>0.741250</td>\n",
              "      <td>0.747000</td>\n",
              "      <td>0.748250</td>\n",
              "      <td>0.753250</td>\n",
              "      <td>0.74200</td>\n",
              "      <td>0.748000</td>\n",
              "      <td>0.746000</td>\n",
              "      <td>0.755000</td>\n",
              "      <td>0.747000</td>\n",
              "      <td>0.744000</td>\n",
              "    </tr>\n",
              "    <tr>\n",
              "      <th>max</th>\n",
              "      <td>1.000000</td>\n",
              "      <td>1.000000</td>\n",
              "      <td>1.000000</td>\n",
              "      <td>1.000000</td>\n",
              "      <td>1.000000</td>\n",
              "      <td>1.000000</td>\n",
              "      <td>1.000000</td>\n",
              "      <td>1.000000</td>\n",
              "      <td>1.000000</td>\n",
              "      <td>1.000000</td>\n",
              "      <td>...</td>\n",
              "      <td>1.000000</td>\n",
              "      <td>1.000000</td>\n",
              "      <td>1.000000</td>\n",
              "      <td>1.000000</td>\n",
              "      <td>1.00000</td>\n",
              "      <td>1.000000</td>\n",
              "      <td>1.000000</td>\n",
              "      <td>1.000000</td>\n",
              "      <td>1.000000</td>\n",
              "      <td>1.000000</td>\n",
              "    </tr>\n",
              "  </tbody>\n",
              "</table>\n",
              "<p>8 rows × 41 columns</p>\n",
              "</div>\n",
              "      <button class=\"colab-df-convert\" onclick=\"convertToInteractive('df-46bbc86b-4ea9-4838-a88c-0eb29a708bc3')\"\n",
              "              title=\"Convert this dataframe to an interactive table.\"\n",
              "              style=\"display:none;\">\n",
              "        \n",
              "  <svg xmlns=\"http://www.w3.org/2000/svg\" height=\"24px\"viewBox=\"0 0 24 24\"\n",
              "       width=\"24px\">\n",
              "    <path d=\"M0 0h24v24H0V0z\" fill=\"none\"/>\n",
              "    <path d=\"M18.56 5.44l.94 2.06.94-2.06 2.06-.94-2.06-.94-.94-2.06-.94 2.06-2.06.94zm-11 1L8.5 8.5l.94-2.06 2.06-.94-2.06-.94L8.5 2.5l-.94 2.06-2.06.94zm10 10l.94 2.06.94-2.06 2.06-.94-2.06-.94-.94-2.06-.94 2.06-2.06.94z\"/><path d=\"M17.41 7.96l-1.37-1.37c-.4-.4-.92-.59-1.43-.59-.52 0-1.04.2-1.43.59L10.3 9.45l-7.72 7.72c-.78.78-.78 2.05 0 2.83L4 21.41c.39.39.9.59 1.41.59.51 0 1.02-.2 1.41-.59l7.78-7.78 2.81-2.81c.8-.78.8-2.07 0-2.86zM5.41 20L4 18.59l7.72-7.72 1.47 1.35L5.41 20z\"/>\n",
              "  </svg>\n",
              "      </button>\n",
              "      \n",
              "  <style>\n",
              "    .colab-df-container {\n",
              "      display:flex;\n",
              "      flex-wrap:wrap;\n",
              "      gap: 12px;\n",
              "    }\n",
              "\n",
              "    .colab-df-convert {\n",
              "      background-color: #E8F0FE;\n",
              "      border: none;\n",
              "      border-radius: 50%;\n",
              "      cursor: pointer;\n",
              "      display: none;\n",
              "      fill: #1967D2;\n",
              "      height: 32px;\n",
              "      padding: 0 0 0 0;\n",
              "      width: 32px;\n",
              "    }\n",
              "\n",
              "    .colab-df-convert:hover {\n",
              "      background-color: #E2EBFA;\n",
              "      box-shadow: 0px 1px 2px rgba(60, 64, 67, 0.3), 0px 1px 3px 1px rgba(60, 64, 67, 0.15);\n",
              "      fill: #174EA6;\n",
              "    }\n",
              "\n",
              "    [theme=dark] .colab-df-convert {\n",
              "      background-color: #3B4455;\n",
              "      fill: #D2E3FC;\n",
              "    }\n",
              "\n",
              "    [theme=dark] .colab-df-convert:hover {\n",
              "      background-color: #434B5C;\n",
              "      box-shadow: 0px 1px 3px 1px rgba(0, 0, 0, 0.15);\n",
              "      filter: drop-shadow(0px 1px 2px rgba(0, 0, 0, 0.3));\n",
              "      fill: #FFFFFF;\n",
              "    }\n",
              "  </style>\n",
              "\n",
              "      <script>\n",
              "        const buttonEl =\n",
              "          document.querySelector('#df-46bbc86b-4ea9-4838-a88c-0eb29a708bc3 button.colab-df-convert');\n",
              "        buttonEl.style.display =\n",
              "          google.colab.kernel.accessAllowed ? 'block' : 'none';\n",
              "\n",
              "        async function convertToInteractive(key) {\n",
              "          const element = document.querySelector('#df-46bbc86b-4ea9-4838-a88c-0eb29a708bc3');\n",
              "          const dataTable =\n",
              "            await google.colab.kernel.invokeFunction('convertToInteractive',\n",
              "                                                     [key], {});\n",
              "          if (!dataTable) return;\n",
              "\n",
              "          const docLinkHtml = 'Like what you see? Visit the ' +\n",
              "            '<a target=\"_blank\" href=https://colab.research.google.com/notebooks/data_table.ipynb>data table notebook</a>'\n",
              "            + ' to learn more about interactive tables.';\n",
              "          element.innerHTML = '';\n",
              "          dataTable['output_type'] = 'display_data';\n",
              "          await google.colab.output.renderOutput(dataTable, element);\n",
              "          const docLink = document.createElement('div');\n",
              "          docLink.innerHTML = docLinkHtml;\n",
              "          element.appendChild(docLink);\n",
              "        }\n",
              "      </script>\n",
              "    </div>\n",
              "  </div>\n",
              "  "
            ]
          },
          "metadata": {},
          "execution_count": 3
        }
      ]
    },
    {
      "cell_type": "code",
      "source": [
        "df.info()"
      ],
      "metadata": {
        "colab": {
          "base_uri": "https://localhost:8080/"
        },
        "id": "-pbs44a4Jncz",
        "outputId": "630486c2-5a23-4841-80ea-f2dc801fdea3"
      },
      "execution_count": 4,
      "outputs": [
        {
          "output_type": "stream",
          "name": "stdout",
          "text": [
            "<class 'pandas.core.frame.DataFrame'>\n",
            "RangeIndex: 8000 entries, 0 to 7999\n",
            "Data columns (total 41 columns):\n",
            " #   Column  Non-Null Count  Dtype  \n",
            "---  ------  --------------  -----  \n",
            " 0   y       8000 non-null   float64\n",
            " 1   x1      8000 non-null   float64\n",
            " 2   x2      8000 non-null   float64\n",
            " 3   x3      8000 non-null   float64\n",
            " 4   x4      8000 non-null   float64\n",
            " 5   x5      8000 non-null   float64\n",
            " 6   x6      8000 non-null   float64\n",
            " 7   x7      8000 non-null   float64\n",
            " 8   x8      8000 non-null   float64\n",
            " 9   x9      8000 non-null   float64\n",
            " 10  x10     8000 non-null   float64\n",
            " 11  x11     8000 non-null   float64\n",
            " 12  x12     8000 non-null   float64\n",
            " 13  x13     8000 non-null   float64\n",
            " 14  x14     8000 non-null   float64\n",
            " 15  x15     8000 non-null   float64\n",
            " 16  x16     8000 non-null   float64\n",
            " 17  x17     8000 non-null   float64\n",
            " 18  x18     8000 non-null   float64\n",
            " 19  x19     8000 non-null   float64\n",
            " 20  x20     8000 non-null   float64\n",
            " 21  x21     8000 non-null   float64\n",
            " 22  x22     8000 non-null   float64\n",
            " 23  x23     8000 non-null   float64\n",
            " 24  x24     8000 non-null   float64\n",
            " 25  x25     8000 non-null   float64\n",
            " 26  x26     8000 non-null   float64\n",
            " 27  x27     8000 non-null   float64\n",
            " 28  x28     8000 non-null   float64\n",
            " 29  x29     8000 non-null   float64\n",
            " 30  x30     8000 non-null   float64\n",
            " 31  x31     8000 non-null   float64\n",
            " 32  x32     8000 non-null   float64\n",
            " 33  x33     8000 non-null   float64\n",
            " 34  x34     8000 non-null   float64\n",
            " 35  x35     8000 non-null   float64\n",
            " 36  x36     8000 non-null   float64\n",
            " 37  x37     8000 non-null   float64\n",
            " 38  x38     8000 non-null   float64\n",
            " 39  x39     8000 non-null   float64\n",
            " 40  x40     8000 non-null   float64\n",
            "dtypes: float64(41)\n",
            "memory usage: 2.5 MB\n"
          ]
        }
      ]
    },
    {
      "cell_type": "code",
      "source": [
        "df.head(3)"
      ],
      "metadata": {
        "colab": {
          "base_uri": "https://localhost:8080/",
          "height": 237
        },
        "id": "VrQ0zpx8JCu5",
        "outputId": "53836ee3-0e6f-4384-cc68-94f4cfb49656"
      },
      "execution_count": 5,
      "outputs": [
        {
          "output_type": "execute_result",
          "data": {
            "text/plain": [
              "     y     x1     x2     x3     x4     x5     x6     x7     x8     x9  ...  \\\n",
              "0  1.0  0.876  0.269  0.322  0.225  0.266  0.322  0.228  0.599  0.714  ...   \n",
              "1  1.0  0.613  0.581  0.141  0.141  0.321  0.955  0.553  0.423  0.675  ...   \n",
              "2  1.0  0.314  0.165  0.471  0.579  0.776  0.088  0.849  0.870  0.206  ...   \n",
              "\n",
              "     x31    x32    x33    x34    x35    x36    x37    x38    x39    x40  \n",
              "0  0.179  0.318  0.631  1.000  0.645  0.883  0.720  0.707  0.511  0.388  \n",
              "1  0.955  0.179  0.615  0.737  0.429  0.850  0.214  0.458  0.665  0.871  \n",
              "2  0.285  0.507  0.483  0.204  0.820  0.446  0.440  0.565  0.770  0.764  \n",
              "\n",
              "[3 rows x 41 columns]"
            ],
            "text/html": [
              "\n",
              "  <div id=\"df-b6a549c9-72a7-4388-9acb-bbfacadfdabb\">\n",
              "    <div class=\"colab-df-container\">\n",
              "      <div>\n",
              "<style scoped>\n",
              "    .dataframe tbody tr th:only-of-type {\n",
              "        vertical-align: middle;\n",
              "    }\n",
              "\n",
              "    .dataframe tbody tr th {\n",
              "        vertical-align: top;\n",
              "    }\n",
              "\n",
              "    .dataframe thead th {\n",
              "        text-align: right;\n",
              "    }\n",
              "</style>\n",
              "<table border=\"1\" class=\"dataframe\">\n",
              "  <thead>\n",
              "    <tr style=\"text-align: right;\">\n",
              "      <th></th>\n",
              "      <th>y</th>\n",
              "      <th>x1</th>\n",
              "      <th>x2</th>\n",
              "      <th>x3</th>\n",
              "      <th>x4</th>\n",
              "      <th>x5</th>\n",
              "      <th>x6</th>\n",
              "      <th>x7</th>\n",
              "      <th>x8</th>\n",
              "      <th>x9</th>\n",
              "      <th>...</th>\n",
              "      <th>x31</th>\n",
              "      <th>x32</th>\n",
              "      <th>x33</th>\n",
              "      <th>x34</th>\n",
              "      <th>x35</th>\n",
              "      <th>x36</th>\n",
              "      <th>x37</th>\n",
              "      <th>x38</th>\n",
              "      <th>x39</th>\n",
              "      <th>x40</th>\n",
              "    </tr>\n",
              "  </thead>\n",
              "  <tbody>\n",
              "    <tr>\n",
              "      <th>0</th>\n",
              "      <td>1.0</td>\n",
              "      <td>0.876</td>\n",
              "      <td>0.269</td>\n",
              "      <td>0.322</td>\n",
              "      <td>0.225</td>\n",
              "      <td>0.266</td>\n",
              "      <td>0.322</td>\n",
              "      <td>0.228</td>\n",
              "      <td>0.599</td>\n",
              "      <td>0.714</td>\n",
              "      <td>...</td>\n",
              "      <td>0.179</td>\n",
              "      <td>0.318</td>\n",
              "      <td>0.631</td>\n",
              "      <td>1.000</td>\n",
              "      <td>0.645</td>\n",
              "      <td>0.883</td>\n",
              "      <td>0.720</td>\n",
              "      <td>0.707</td>\n",
              "      <td>0.511</td>\n",
              "      <td>0.388</td>\n",
              "    </tr>\n",
              "    <tr>\n",
              "      <th>1</th>\n",
              "      <td>1.0</td>\n",
              "      <td>0.613</td>\n",
              "      <td>0.581</td>\n",
              "      <td>0.141</td>\n",
              "      <td>0.141</td>\n",
              "      <td>0.321</td>\n",
              "      <td>0.955</td>\n",
              "      <td>0.553</td>\n",
              "      <td>0.423</td>\n",
              "      <td>0.675</td>\n",
              "      <td>...</td>\n",
              "      <td>0.955</td>\n",
              "      <td>0.179</td>\n",
              "      <td>0.615</td>\n",
              "      <td>0.737</td>\n",
              "      <td>0.429</td>\n",
              "      <td>0.850</td>\n",
              "      <td>0.214</td>\n",
              "      <td>0.458</td>\n",
              "      <td>0.665</td>\n",
              "      <td>0.871</td>\n",
              "    </tr>\n",
              "    <tr>\n",
              "      <th>2</th>\n",
              "      <td>1.0</td>\n",
              "      <td>0.314</td>\n",
              "      <td>0.165</td>\n",
              "      <td>0.471</td>\n",
              "      <td>0.579</td>\n",
              "      <td>0.776</td>\n",
              "      <td>0.088</td>\n",
              "      <td>0.849</td>\n",
              "      <td>0.870</td>\n",
              "      <td>0.206</td>\n",
              "      <td>...</td>\n",
              "      <td>0.285</td>\n",
              "      <td>0.507</td>\n",
              "      <td>0.483</td>\n",
              "      <td>0.204</td>\n",
              "      <td>0.820</td>\n",
              "      <td>0.446</td>\n",
              "      <td>0.440</td>\n",
              "      <td>0.565</td>\n",
              "      <td>0.770</td>\n",
              "      <td>0.764</td>\n",
              "    </tr>\n",
              "  </tbody>\n",
              "</table>\n",
              "<p>3 rows × 41 columns</p>\n",
              "</div>\n",
              "      <button class=\"colab-df-convert\" onclick=\"convertToInteractive('df-b6a549c9-72a7-4388-9acb-bbfacadfdabb')\"\n",
              "              title=\"Convert this dataframe to an interactive table.\"\n",
              "              style=\"display:none;\">\n",
              "        \n",
              "  <svg xmlns=\"http://www.w3.org/2000/svg\" height=\"24px\"viewBox=\"0 0 24 24\"\n",
              "       width=\"24px\">\n",
              "    <path d=\"M0 0h24v24H0V0z\" fill=\"none\"/>\n",
              "    <path d=\"M18.56 5.44l.94 2.06.94-2.06 2.06-.94-2.06-.94-.94-2.06-.94 2.06-2.06.94zm-11 1L8.5 8.5l.94-2.06 2.06-.94-2.06-.94L8.5 2.5l-.94 2.06-2.06.94zm10 10l.94 2.06.94-2.06 2.06-.94-2.06-.94-.94-2.06-.94 2.06-2.06.94z\"/><path d=\"M17.41 7.96l-1.37-1.37c-.4-.4-.92-.59-1.43-.59-.52 0-1.04.2-1.43.59L10.3 9.45l-7.72 7.72c-.78.78-.78 2.05 0 2.83L4 21.41c.39.39.9.59 1.41.59.51 0 1.02-.2 1.41-.59l7.78-7.78 2.81-2.81c.8-.78.8-2.07 0-2.86zM5.41 20L4 18.59l7.72-7.72 1.47 1.35L5.41 20z\"/>\n",
              "  </svg>\n",
              "      </button>\n",
              "      \n",
              "  <style>\n",
              "    .colab-df-container {\n",
              "      display:flex;\n",
              "      flex-wrap:wrap;\n",
              "      gap: 12px;\n",
              "    }\n",
              "\n",
              "    .colab-df-convert {\n",
              "      background-color: #E8F0FE;\n",
              "      border: none;\n",
              "      border-radius: 50%;\n",
              "      cursor: pointer;\n",
              "      display: none;\n",
              "      fill: #1967D2;\n",
              "      height: 32px;\n",
              "      padding: 0 0 0 0;\n",
              "      width: 32px;\n",
              "    }\n",
              "\n",
              "    .colab-df-convert:hover {\n",
              "      background-color: #E2EBFA;\n",
              "      box-shadow: 0px 1px 2px rgba(60, 64, 67, 0.3), 0px 1px 3px 1px rgba(60, 64, 67, 0.15);\n",
              "      fill: #174EA6;\n",
              "    }\n",
              "\n",
              "    [theme=dark] .colab-df-convert {\n",
              "      background-color: #3B4455;\n",
              "      fill: #D2E3FC;\n",
              "    }\n",
              "\n",
              "    [theme=dark] .colab-df-convert:hover {\n",
              "      background-color: #434B5C;\n",
              "      box-shadow: 0px 1px 3px 1px rgba(0, 0, 0, 0.15);\n",
              "      filter: drop-shadow(0px 1px 2px rgba(0, 0, 0, 0.3));\n",
              "      fill: #FFFFFF;\n",
              "    }\n",
              "  </style>\n",
              "\n",
              "      <script>\n",
              "        const buttonEl =\n",
              "          document.querySelector('#df-b6a549c9-72a7-4388-9acb-bbfacadfdabb button.colab-df-convert');\n",
              "        buttonEl.style.display =\n",
              "          google.colab.kernel.accessAllowed ? 'block' : 'none';\n",
              "\n",
              "        async function convertToInteractive(key) {\n",
              "          const element = document.querySelector('#df-b6a549c9-72a7-4388-9acb-bbfacadfdabb');\n",
              "          const dataTable =\n",
              "            await google.colab.kernel.invokeFunction('convertToInteractive',\n",
              "                                                     [key], {});\n",
              "          if (!dataTable) return;\n",
              "\n",
              "          const docLinkHtml = 'Like what you see? Visit the ' +\n",
              "            '<a target=\"_blank\" href=https://colab.research.google.com/notebooks/data_table.ipynb>data table notebook</a>'\n",
              "            + ' to learn more about interactive tables.';\n",
              "          element.innerHTML = '';\n",
              "          dataTable['output_type'] = 'display_data';\n",
              "          await google.colab.output.renderOutput(dataTable, element);\n",
              "          const docLink = document.createElement('div');\n",
              "          docLink.innerHTML = docLinkHtml;\n",
              "          element.appendChild(docLink);\n",
              "        }\n",
              "      </script>\n",
              "    </div>\n",
              "  </div>\n",
              "  "
            ]
          },
          "metadata": {},
          "execution_count": 5
        }
      ]
    },
    {
      "cell_type": "code",
      "source": [
        "df.shape"
      ],
      "metadata": {
        "colab": {
          "base_uri": "https://localhost:8080/"
        },
        "id": "0ZMqvhYPJDpm",
        "outputId": "9a980d22-79f8-4dbd-dec3-5b86a574a364"
      },
      "execution_count": 6,
      "outputs": [
        {
          "output_type": "execute_result",
          "data": {
            "text/plain": [
              "(8000, 41)"
            ]
          },
          "metadata": {},
          "execution_count": 6
        }
      ]
    },
    {
      "cell_type": "code",
      "source": [
        "x = df.iloc[:,1:]\n",
        "x.shape"
      ],
      "metadata": {
        "colab": {
          "base_uri": "https://localhost:8080/"
        },
        "id": "Se7pT-FnJNeQ",
        "outputId": "fc0cb046-854a-4f58-f7ad-dd2129019ce2"
      },
      "execution_count": 7,
      "outputs": [
        {
          "output_type": "execute_result",
          "data": {
            "text/plain": [
              "(8000, 40)"
            ]
          },
          "metadata": {},
          "execution_count": 7
        }
      ]
    },
    {
      "cell_type": "code",
      "source": [
        "y = pd.DataFrame(df.iloc[:,0])\n",
        "y.shape"
      ],
      "metadata": {
        "colab": {
          "base_uri": "https://localhost:8080/"
        },
        "id": "YTOLOspsJSQa",
        "outputId": "ae2598ff-8657-4870-c455-b6776814c70a"
      },
      "execution_count": 8,
      "outputs": [
        {
          "output_type": "execute_result",
          "data": {
            "text/plain": [
              "(8000, 1)"
            ]
          },
          "metadata": {},
          "execution_count": 8
        }
      ]
    },
    {
      "cell_type": "code",
      "source": [
        "from sklearn.tree import DecisionTreeClassifier\n",
        "from sklearn.model_selection import cross_val_score"
      ],
      "metadata": {
        "id": "jwR7Be-sJcFi"
      },
      "execution_count": 11,
      "outputs": []
    },
    {
      "cell_type": "code",
      "source": [
        "scores = cross_val_score(DecisionTreeClassifier(max_leaf_nodes=5),x,y,cv=5)\n",
        "scores.mean()"
      ],
      "metadata": {
        "colab": {
          "base_uri": "https://localhost:8080/"
        },
        "id": "1FEzqDaqLSvC",
        "outputId": "268afb70-adb2-4914-e569-aec817ad01ce"
      },
      "execution_count": 12,
      "outputs": [
        {
          "output_type": "execute_result",
          "data": {
            "text/plain": [
              "0.9564999999999999"
            ]
          },
          "metadata": {},
          "execution_count": 12
        }
      ]
    },
    {
      "cell_type": "code",
      "source": [
        "model = DecisionTreeClassifier(max_leaf_nodes=5)"
      ],
      "metadata": {
        "id": "9ferExdTR08x"
      },
      "execution_count": 13,
      "outputs": []
    },
    {
      "cell_type": "code",
      "source": [
        "model.fit(x,y)"
      ],
      "metadata": {
        "colab": {
          "base_uri": "https://localhost:8080/"
        },
        "id": "ZmJZOhdTSMrY",
        "outputId": "99d4b7d5-57ad-4676-f623-dcc25b7ff146"
      },
      "execution_count": 14,
      "outputs": [
        {
          "output_type": "execute_result",
          "data": {
            "text/plain": [
              "DecisionTreeClassifier(max_leaf_nodes=5)"
            ]
          },
          "metadata": {},
          "execution_count": 14
        }
      ]
    },
    {
      "cell_type": "code",
      "source": [
        "te = pd.read_csv(\"/content/final.q2.test.csv\")"
      ],
      "metadata": {
        "id": "Ke8uMLyiSPr5"
      },
      "execution_count": 15,
      "outputs": []
    },
    {
      "cell_type": "code",
      "source": [
        "te.head(3)"
      ],
      "metadata": {
        "colab": {
          "base_uri": "https://localhost:8080/",
          "height": 237
        },
        "id": "3JbwDTmQSYsb",
        "outputId": "f122135f-3dc8-49b5-e957-736e5a83b79f"
      },
      "execution_count": 16,
      "outputs": [
        {
          "output_type": "execute_result",
          "data": {
            "text/plain": [
              "     y     x1     x2     x3     x4     x5     x6     x7     x8     x9  ...  \\\n",
              "0  0.0  0.589  0.823  0.108  0.512  0.293  0.431  0.931  0.633  0.683  ...   \n",
              "1  1.0  0.343  0.857  0.890  0.714  0.633  0.042  0.049  0.213  0.191  ...   \n",
              "2  0.0  0.987  0.171  0.776  0.526  0.261  0.480  0.195  0.136  0.595  ...   \n",
              "\n",
              "     x31    x32    x33    x34    x35    x36    x37    x38    x39    x40  \n",
              "0  0.644  0.088  0.973  0.797  0.384  0.834  0.927  0.908  0.798  0.458  \n",
              "1  0.593  0.748  0.713  0.198  0.279  0.210  0.722  0.174  0.267  0.190  \n",
              "2  0.505  0.474  0.679  0.886  0.865  0.656  0.988  0.906  0.021  0.950  \n",
              "\n",
              "[3 rows x 41 columns]"
            ],
            "text/html": [
              "\n",
              "  <div id=\"df-3894c398-7cf3-4271-8c8c-ddbd61208dd0\">\n",
              "    <div class=\"colab-df-container\">\n",
              "      <div>\n",
              "<style scoped>\n",
              "    .dataframe tbody tr th:only-of-type {\n",
              "        vertical-align: middle;\n",
              "    }\n",
              "\n",
              "    .dataframe tbody tr th {\n",
              "        vertical-align: top;\n",
              "    }\n",
              "\n",
              "    .dataframe thead th {\n",
              "        text-align: right;\n",
              "    }\n",
              "</style>\n",
              "<table border=\"1\" class=\"dataframe\">\n",
              "  <thead>\n",
              "    <tr style=\"text-align: right;\">\n",
              "      <th></th>\n",
              "      <th>y</th>\n",
              "      <th>x1</th>\n",
              "      <th>x2</th>\n",
              "      <th>x3</th>\n",
              "      <th>x4</th>\n",
              "      <th>x5</th>\n",
              "      <th>x6</th>\n",
              "      <th>x7</th>\n",
              "      <th>x8</th>\n",
              "      <th>x9</th>\n",
              "      <th>...</th>\n",
              "      <th>x31</th>\n",
              "      <th>x32</th>\n",
              "      <th>x33</th>\n",
              "      <th>x34</th>\n",
              "      <th>x35</th>\n",
              "      <th>x36</th>\n",
              "      <th>x37</th>\n",
              "      <th>x38</th>\n",
              "      <th>x39</th>\n",
              "      <th>x40</th>\n",
              "    </tr>\n",
              "  </thead>\n",
              "  <tbody>\n",
              "    <tr>\n",
              "      <th>0</th>\n",
              "      <td>0.0</td>\n",
              "      <td>0.589</td>\n",
              "      <td>0.823</td>\n",
              "      <td>0.108</td>\n",
              "      <td>0.512</td>\n",
              "      <td>0.293</td>\n",
              "      <td>0.431</td>\n",
              "      <td>0.931</td>\n",
              "      <td>0.633</td>\n",
              "      <td>0.683</td>\n",
              "      <td>...</td>\n",
              "      <td>0.644</td>\n",
              "      <td>0.088</td>\n",
              "      <td>0.973</td>\n",
              "      <td>0.797</td>\n",
              "      <td>0.384</td>\n",
              "      <td>0.834</td>\n",
              "      <td>0.927</td>\n",
              "      <td>0.908</td>\n",
              "      <td>0.798</td>\n",
              "      <td>0.458</td>\n",
              "    </tr>\n",
              "    <tr>\n",
              "      <th>1</th>\n",
              "      <td>1.0</td>\n",
              "      <td>0.343</td>\n",
              "      <td>0.857</td>\n",
              "      <td>0.890</td>\n",
              "      <td>0.714</td>\n",
              "      <td>0.633</td>\n",
              "      <td>0.042</td>\n",
              "      <td>0.049</td>\n",
              "      <td>0.213</td>\n",
              "      <td>0.191</td>\n",
              "      <td>...</td>\n",
              "      <td>0.593</td>\n",
              "      <td>0.748</td>\n",
              "      <td>0.713</td>\n",
              "      <td>0.198</td>\n",
              "      <td>0.279</td>\n",
              "      <td>0.210</td>\n",
              "      <td>0.722</td>\n",
              "      <td>0.174</td>\n",
              "      <td>0.267</td>\n",
              "      <td>0.190</td>\n",
              "    </tr>\n",
              "    <tr>\n",
              "      <th>2</th>\n",
              "      <td>0.0</td>\n",
              "      <td>0.987</td>\n",
              "      <td>0.171</td>\n",
              "      <td>0.776</td>\n",
              "      <td>0.526</td>\n",
              "      <td>0.261</td>\n",
              "      <td>0.480</td>\n",
              "      <td>0.195</td>\n",
              "      <td>0.136</td>\n",
              "      <td>0.595</td>\n",
              "      <td>...</td>\n",
              "      <td>0.505</td>\n",
              "      <td>0.474</td>\n",
              "      <td>0.679</td>\n",
              "      <td>0.886</td>\n",
              "      <td>0.865</td>\n",
              "      <td>0.656</td>\n",
              "      <td>0.988</td>\n",
              "      <td>0.906</td>\n",
              "      <td>0.021</td>\n",
              "      <td>0.950</td>\n",
              "    </tr>\n",
              "  </tbody>\n",
              "</table>\n",
              "<p>3 rows × 41 columns</p>\n",
              "</div>\n",
              "      <button class=\"colab-df-convert\" onclick=\"convertToInteractive('df-3894c398-7cf3-4271-8c8c-ddbd61208dd0')\"\n",
              "              title=\"Convert this dataframe to an interactive table.\"\n",
              "              style=\"display:none;\">\n",
              "        \n",
              "  <svg xmlns=\"http://www.w3.org/2000/svg\" height=\"24px\"viewBox=\"0 0 24 24\"\n",
              "       width=\"24px\">\n",
              "    <path d=\"M0 0h24v24H0V0z\" fill=\"none\"/>\n",
              "    <path d=\"M18.56 5.44l.94 2.06.94-2.06 2.06-.94-2.06-.94-.94-2.06-.94 2.06-2.06.94zm-11 1L8.5 8.5l.94-2.06 2.06-.94-2.06-.94L8.5 2.5l-.94 2.06-2.06.94zm10 10l.94 2.06.94-2.06 2.06-.94-2.06-.94-.94-2.06-.94 2.06-2.06.94z\"/><path d=\"M17.41 7.96l-1.37-1.37c-.4-.4-.92-.59-1.43-.59-.52 0-1.04.2-1.43.59L10.3 9.45l-7.72 7.72c-.78.78-.78 2.05 0 2.83L4 21.41c.39.39.9.59 1.41.59.51 0 1.02-.2 1.41-.59l7.78-7.78 2.81-2.81c.8-.78.8-2.07 0-2.86zM5.41 20L4 18.59l7.72-7.72 1.47 1.35L5.41 20z\"/>\n",
              "  </svg>\n",
              "      </button>\n",
              "      \n",
              "  <style>\n",
              "    .colab-df-container {\n",
              "      display:flex;\n",
              "      flex-wrap:wrap;\n",
              "      gap: 12px;\n",
              "    }\n",
              "\n",
              "    .colab-df-convert {\n",
              "      background-color: #E8F0FE;\n",
              "      border: none;\n",
              "      border-radius: 50%;\n",
              "      cursor: pointer;\n",
              "      display: none;\n",
              "      fill: #1967D2;\n",
              "      height: 32px;\n",
              "      padding: 0 0 0 0;\n",
              "      width: 32px;\n",
              "    }\n",
              "\n",
              "    .colab-df-convert:hover {\n",
              "      background-color: #E2EBFA;\n",
              "      box-shadow: 0px 1px 2px rgba(60, 64, 67, 0.3), 0px 1px 3px 1px rgba(60, 64, 67, 0.15);\n",
              "      fill: #174EA6;\n",
              "    }\n",
              "\n",
              "    [theme=dark] .colab-df-convert {\n",
              "      background-color: #3B4455;\n",
              "      fill: #D2E3FC;\n",
              "    }\n",
              "\n",
              "    [theme=dark] .colab-df-convert:hover {\n",
              "      background-color: #434B5C;\n",
              "      box-shadow: 0px 1px 3px 1px rgba(0, 0, 0, 0.15);\n",
              "      filter: drop-shadow(0px 1px 2px rgba(0, 0, 0, 0.3));\n",
              "      fill: #FFFFFF;\n",
              "    }\n",
              "  </style>\n",
              "\n",
              "      <script>\n",
              "        const buttonEl =\n",
              "          document.querySelector('#df-3894c398-7cf3-4271-8c8c-ddbd61208dd0 button.colab-df-convert');\n",
              "        buttonEl.style.display =\n",
              "          google.colab.kernel.accessAllowed ? 'block' : 'none';\n",
              "\n",
              "        async function convertToInteractive(key) {\n",
              "          const element = document.querySelector('#df-3894c398-7cf3-4271-8c8c-ddbd61208dd0');\n",
              "          const dataTable =\n",
              "            await google.colab.kernel.invokeFunction('convertToInteractive',\n",
              "                                                     [key], {});\n",
              "          if (!dataTable) return;\n",
              "\n",
              "          const docLinkHtml = 'Like what you see? Visit the ' +\n",
              "            '<a target=\"_blank\" href=https://colab.research.google.com/notebooks/data_table.ipynb>data table notebook</a>'\n",
              "            + ' to learn more about interactive tables.';\n",
              "          element.innerHTML = '';\n",
              "          dataTable['output_type'] = 'display_data';\n",
              "          await google.colab.output.renderOutput(dataTable, element);\n",
              "          const docLink = document.createElement('div');\n",
              "          docLink.innerHTML = docLinkHtml;\n",
              "          element.appendChild(docLink);\n",
              "        }\n",
              "      </script>\n",
              "    </div>\n",
              "  </div>\n",
              "  "
            ]
          },
          "metadata": {},
          "execution_count": 16
        }
      ]
    },
    {
      "cell_type": "code",
      "source": [
        "x_test = te.iloc[:,1:]\n",
        "y_test = pd.DataFrame(te.iloc[:,0])"
      ],
      "metadata": {
        "id": "6g8rvjv9SWcJ"
      },
      "execution_count": 17,
      "outputs": []
    },
    {
      "cell_type": "code",
      "source": [
        "y_pred = model.predict(x_test)"
      ],
      "metadata": {
        "id": "Ub-nCIAnSjK7"
      },
      "execution_count": 18,
      "outputs": []
    },
    {
      "cell_type": "code",
      "source": [
        "model.score(x_test,y_test)"
      ],
      "metadata": {
        "colab": {
          "base_uri": "https://localhost:8080/"
        },
        "id": "b3XFEpPtSqLy",
        "outputId": "c70ac625-1e7f-4f88-86ea-44793520b599"
      },
      "execution_count": 19,
      "outputs": [
        {
          "output_type": "execute_result",
          "data": {
            "text/plain": [
              "0.9635"
            ]
          },
          "metadata": {},
          "execution_count": 19
        }
      ]
    },
    {
      "cell_type": "code",
      "source": [
        "from sklearn.metrics import confusion_matrix"
      ],
      "metadata": {
        "id": "ukZSW5ukSs2s"
      },
      "execution_count": 20,
      "outputs": []
    },
    {
      "cell_type": "code",
      "source": [
        "confusion_matrix(y_test,y_pred)"
      ],
      "metadata": {
        "colab": {
          "base_uri": "https://localhost:8080/"
        },
        "id": "LWp1sSc3SzxQ",
        "outputId": "b7daa7ac-50c0-4691-c500-8e542fcf4b82"
      },
      "execution_count": 21,
      "outputs": [
        {
          "output_type": "execute_result",
          "data": {
            "text/plain": [
              "array([[994,  36],\n",
              "       [ 37, 933]])"
            ]
          },
          "metadata": {},
          "execution_count": 21
        }
      ]
    },
    {
      "cell_type": "code",
      "source": [
        "new = pd.read_csv(\"/content/final.q2.new.csv\")"
      ],
      "metadata": {
        "id": "jTwbny6bS3oL"
      },
      "execution_count": 22,
      "outputs": []
    },
    {
      "cell_type": "code",
      "source": [
        "new.head(3)"
      ],
      "metadata": {
        "colab": {
          "base_uri": "https://localhost:8080/",
          "height": 237
        },
        "id": "A3ei78bbTZ91",
        "outputId": "149f2d3e-8a66-4c16-f6a6-b1fcf06d2e8c"
      },
      "execution_count": 23,
      "outputs": [
        {
          "output_type": "execute_result",
          "data": {
            "text/plain": [
              "       ID     x1     x2     x3     x4     x5     x6     x7     x8     x9  ...  \\\n",
              "0  ID_001  0.141  0.810  0.515  0.340  0.938  0.012  0.772  0.703  0.979  ...   \n",
              "1  ID_002  0.873  0.321  0.151  0.059  0.018  0.721  0.886  0.598  0.308  ...   \n",
              "2  ID_003  0.564  0.607  0.782  0.943  0.147  0.595  0.602  0.844  0.460  ...   \n",
              "\n",
              "     x31    x32    x33    x34    x35    x36    x37    x38    x39    x40  \n",
              "0  0.782  0.636  0.371  0.843  0.682  0.612  0.321  0.733  0.156  0.669  \n",
              "1  0.893  0.160  0.671  0.683  0.704  0.254  0.882  0.239  0.572  0.093  \n",
              "2  0.136  0.526  0.551  0.852  0.267  0.750  0.834  0.356  0.776  0.869  \n",
              "\n",
              "[3 rows x 41 columns]"
            ],
            "text/html": [
              "\n",
              "  <div id=\"df-05cd920d-6e63-4f10-ada8-a7b45aa75b79\">\n",
              "    <div class=\"colab-df-container\">\n",
              "      <div>\n",
              "<style scoped>\n",
              "    .dataframe tbody tr th:only-of-type {\n",
              "        vertical-align: middle;\n",
              "    }\n",
              "\n",
              "    .dataframe tbody tr th {\n",
              "        vertical-align: top;\n",
              "    }\n",
              "\n",
              "    .dataframe thead th {\n",
              "        text-align: right;\n",
              "    }\n",
              "</style>\n",
              "<table border=\"1\" class=\"dataframe\">\n",
              "  <thead>\n",
              "    <tr style=\"text-align: right;\">\n",
              "      <th></th>\n",
              "      <th>ID</th>\n",
              "      <th>x1</th>\n",
              "      <th>x2</th>\n",
              "      <th>x3</th>\n",
              "      <th>x4</th>\n",
              "      <th>x5</th>\n",
              "      <th>x6</th>\n",
              "      <th>x7</th>\n",
              "      <th>x8</th>\n",
              "      <th>x9</th>\n",
              "      <th>...</th>\n",
              "      <th>x31</th>\n",
              "      <th>x32</th>\n",
              "      <th>x33</th>\n",
              "      <th>x34</th>\n",
              "      <th>x35</th>\n",
              "      <th>x36</th>\n",
              "      <th>x37</th>\n",
              "      <th>x38</th>\n",
              "      <th>x39</th>\n",
              "      <th>x40</th>\n",
              "    </tr>\n",
              "  </thead>\n",
              "  <tbody>\n",
              "    <tr>\n",
              "      <th>0</th>\n",
              "      <td>ID_001</td>\n",
              "      <td>0.141</td>\n",
              "      <td>0.810</td>\n",
              "      <td>0.515</td>\n",
              "      <td>0.340</td>\n",
              "      <td>0.938</td>\n",
              "      <td>0.012</td>\n",
              "      <td>0.772</td>\n",
              "      <td>0.703</td>\n",
              "      <td>0.979</td>\n",
              "      <td>...</td>\n",
              "      <td>0.782</td>\n",
              "      <td>0.636</td>\n",
              "      <td>0.371</td>\n",
              "      <td>0.843</td>\n",
              "      <td>0.682</td>\n",
              "      <td>0.612</td>\n",
              "      <td>0.321</td>\n",
              "      <td>0.733</td>\n",
              "      <td>0.156</td>\n",
              "      <td>0.669</td>\n",
              "    </tr>\n",
              "    <tr>\n",
              "      <th>1</th>\n",
              "      <td>ID_002</td>\n",
              "      <td>0.873</td>\n",
              "      <td>0.321</td>\n",
              "      <td>0.151</td>\n",
              "      <td>0.059</td>\n",
              "      <td>0.018</td>\n",
              "      <td>0.721</td>\n",
              "      <td>0.886</td>\n",
              "      <td>0.598</td>\n",
              "      <td>0.308</td>\n",
              "      <td>...</td>\n",
              "      <td>0.893</td>\n",
              "      <td>0.160</td>\n",
              "      <td>0.671</td>\n",
              "      <td>0.683</td>\n",
              "      <td>0.704</td>\n",
              "      <td>0.254</td>\n",
              "      <td>0.882</td>\n",
              "      <td>0.239</td>\n",
              "      <td>0.572</td>\n",
              "      <td>0.093</td>\n",
              "    </tr>\n",
              "    <tr>\n",
              "      <th>2</th>\n",
              "      <td>ID_003</td>\n",
              "      <td>0.564</td>\n",
              "      <td>0.607</td>\n",
              "      <td>0.782</td>\n",
              "      <td>0.943</td>\n",
              "      <td>0.147</td>\n",
              "      <td>0.595</td>\n",
              "      <td>0.602</td>\n",
              "      <td>0.844</td>\n",
              "      <td>0.460</td>\n",
              "      <td>...</td>\n",
              "      <td>0.136</td>\n",
              "      <td>0.526</td>\n",
              "      <td>0.551</td>\n",
              "      <td>0.852</td>\n",
              "      <td>0.267</td>\n",
              "      <td>0.750</td>\n",
              "      <td>0.834</td>\n",
              "      <td>0.356</td>\n",
              "      <td>0.776</td>\n",
              "      <td>0.869</td>\n",
              "    </tr>\n",
              "  </tbody>\n",
              "</table>\n",
              "<p>3 rows × 41 columns</p>\n",
              "</div>\n",
              "      <button class=\"colab-df-convert\" onclick=\"convertToInteractive('df-05cd920d-6e63-4f10-ada8-a7b45aa75b79')\"\n",
              "              title=\"Convert this dataframe to an interactive table.\"\n",
              "              style=\"display:none;\">\n",
              "        \n",
              "  <svg xmlns=\"http://www.w3.org/2000/svg\" height=\"24px\"viewBox=\"0 0 24 24\"\n",
              "       width=\"24px\">\n",
              "    <path d=\"M0 0h24v24H0V0z\" fill=\"none\"/>\n",
              "    <path d=\"M18.56 5.44l.94 2.06.94-2.06 2.06-.94-2.06-.94-.94-2.06-.94 2.06-2.06.94zm-11 1L8.5 8.5l.94-2.06 2.06-.94-2.06-.94L8.5 2.5l-.94 2.06-2.06.94zm10 10l.94 2.06.94-2.06 2.06-.94-2.06-.94-.94-2.06-.94 2.06-2.06.94z\"/><path d=\"M17.41 7.96l-1.37-1.37c-.4-.4-.92-.59-1.43-.59-.52 0-1.04.2-1.43.59L10.3 9.45l-7.72 7.72c-.78.78-.78 2.05 0 2.83L4 21.41c.39.39.9.59 1.41.59.51 0 1.02-.2 1.41-.59l7.78-7.78 2.81-2.81c.8-.78.8-2.07 0-2.86zM5.41 20L4 18.59l7.72-7.72 1.47 1.35L5.41 20z\"/>\n",
              "  </svg>\n",
              "      </button>\n",
              "      \n",
              "  <style>\n",
              "    .colab-df-container {\n",
              "      display:flex;\n",
              "      flex-wrap:wrap;\n",
              "      gap: 12px;\n",
              "    }\n",
              "\n",
              "    .colab-df-convert {\n",
              "      background-color: #E8F0FE;\n",
              "      border: none;\n",
              "      border-radius: 50%;\n",
              "      cursor: pointer;\n",
              "      display: none;\n",
              "      fill: #1967D2;\n",
              "      height: 32px;\n",
              "      padding: 0 0 0 0;\n",
              "      width: 32px;\n",
              "    }\n",
              "\n",
              "    .colab-df-convert:hover {\n",
              "      background-color: #E2EBFA;\n",
              "      box-shadow: 0px 1px 2px rgba(60, 64, 67, 0.3), 0px 1px 3px 1px rgba(60, 64, 67, 0.15);\n",
              "      fill: #174EA6;\n",
              "    }\n",
              "\n",
              "    [theme=dark] .colab-df-convert {\n",
              "      background-color: #3B4455;\n",
              "      fill: #D2E3FC;\n",
              "    }\n",
              "\n",
              "    [theme=dark] .colab-df-convert:hover {\n",
              "      background-color: #434B5C;\n",
              "      box-shadow: 0px 1px 3px 1px rgba(0, 0, 0, 0.15);\n",
              "      filter: drop-shadow(0px 1px 2px rgba(0, 0, 0, 0.3));\n",
              "      fill: #FFFFFF;\n",
              "    }\n",
              "  </style>\n",
              "\n",
              "      <script>\n",
              "        const buttonEl =\n",
              "          document.querySelector('#df-05cd920d-6e63-4f10-ada8-a7b45aa75b79 button.colab-df-convert');\n",
              "        buttonEl.style.display =\n",
              "          google.colab.kernel.accessAllowed ? 'block' : 'none';\n",
              "\n",
              "        async function convertToInteractive(key) {\n",
              "          const element = document.querySelector('#df-05cd920d-6e63-4f10-ada8-a7b45aa75b79');\n",
              "          const dataTable =\n",
              "            await google.colab.kernel.invokeFunction('convertToInteractive',\n",
              "                                                     [key], {});\n",
              "          if (!dataTable) return;\n",
              "\n",
              "          const docLinkHtml = 'Like what you see? Visit the ' +\n",
              "            '<a target=\"_blank\" href=https://colab.research.google.com/notebooks/data_table.ipynb>data table notebook</a>'\n",
              "            + ' to learn more about interactive tables.';\n",
              "          element.innerHTML = '';\n",
              "          dataTable['output_type'] = 'display_data';\n",
              "          await google.colab.output.renderOutput(dataTable, element);\n",
              "          const docLink = document.createElement('div');\n",
              "          docLink.innerHTML = docLinkHtml;\n",
              "          element.appendChild(docLink);\n",
              "        }\n",
              "      </script>\n",
              "    </div>\n",
              "  </div>\n",
              "  "
            ]
          },
          "metadata": {},
          "execution_count": 23
        }
      ]
    },
    {
      "cell_type": "code",
      "source": [
        "new_x = new.iloc[:,1:]"
      ],
      "metadata": {
        "id": "ZJ3RJ_p3TUaY"
      },
      "execution_count": 24,
      "outputs": []
    },
    {
      "cell_type": "code",
      "source": [
        "predicted = model.predict(new_x)"
      ],
      "metadata": {
        "id": "tdLkjiy_Tib9"
      },
      "execution_count": 25,
      "outputs": []
    },
    {
      "cell_type": "code",
      "source": [
        "predicted"
      ],
      "metadata": {
        "colab": {
          "base_uri": "https://localhost:8080/"
        },
        "id": "-3jnSuFqTpiZ",
        "outputId": "fb55f35e-b6df-4a04-96c3-98f2a5f58435"
      },
      "execution_count": 26,
      "outputs": [
        {
          "output_type": "execute_result",
          "data": {
            "text/plain": [
              "array([0., 0., 0., 0., 0., 0., 1., 1., 1., 1., 1., 1., 1., 1., 1., 1., 1.,\n",
              "       1., 1., 1.])"
            ]
          },
          "metadata": {},
          "execution_count": 26
        }
      ]
    },
    {
      "cell_type": "code",
      "source": [
        "from sklearn import tree\n",
        "decisions = tree.export_text(model)\n",
        "print(decisions)"
      ],
      "metadata": {
        "colab": {
          "base_uri": "https://localhost:8080/"
        },
        "id": "4hy2MVnETqXC",
        "outputId": "552c18d7-25d5-4898-9346-da92837377ce"
      },
      "execution_count": 27,
      "outputs": [
        {
          "output_type": "stream",
          "name": "stdout",
          "text": [
            "|--- feature_8 <= 0.81\n",
            "|   |--- feature_14 <= 0.82\n",
            "|   |   |--- feature_11 <= 0.84\n",
            "|   |   |   |--- feature_24 <= 0.88\n",
            "|   |   |   |   |--- class: 1.0\n",
            "|   |   |   |--- feature_24 >  0.88\n",
            "|   |   |   |   |--- class: 0.0\n",
            "|   |   |--- feature_11 >  0.84\n",
            "|   |   |   |--- class: 0.0\n",
            "|   |--- feature_14 >  0.82\n",
            "|   |   |--- class: 0.0\n",
            "|--- feature_8 >  0.81\n",
            "|   |--- class: 0.0\n",
            "\n"
          ]
        }
      ]
    },
    {
      "cell_type": "code",
      "source": [
        "import graphviz\n",
        "re = tree.export_graphviz(model)"
      ],
      "metadata": {
        "id": "T0YRRabLcvML"
      },
      "execution_count": 28,
      "outputs": []
    },
    {
      "cell_type": "code",
      "source": [
        "graph = graphviz.Source(re, format=\"png\") \n",
        "graph"
      ],
      "metadata": {
        "colab": {
          "base_uri": "https://localhost:8080/",
          "height": 658
        },
        "id": "GapJVlYLd-Mj",
        "outputId": "5287d3a7-c99d-4c65-bf1d-ed22befd8caa"
      },
      "execution_count": 29,
      "outputs": [
        {
          "output_type": "execute_result",
          "data": {
            "text/plain": [
              "<graphviz.files.Source at 0x7f7b4bd5dcd0>"
            ],
            "image/svg+xml": "<?xml version=\"1.0\" encoding=\"UTF-8\" standalone=\"no\"?>\n<!DOCTYPE svg PUBLIC \"-//W3C//DTD SVG 1.1//EN\"\n \"http://www.w3.org/Graphics/SVG/1.1/DTD/svg11.dtd\">\n<!-- Generated by graphviz version 2.40.1 (20161225.0304)\n -->\n<!-- Title: Tree Pages: 1 -->\n<svg width=\"532pt\" height=\"477pt\"\n viewBox=\"0.00 0.00 532.00 477.00\" xmlns=\"http://www.w3.org/2000/svg\" xmlns:xlink=\"http://www.w3.org/1999/xlink\">\n<g id=\"graph0\" class=\"graph\" transform=\"scale(1 1) rotate(0) translate(4 473)\">\n<title>Tree</title>\n<polygon fill=\"#ffffff\" stroke=\"transparent\" points=\"-4,4 -4,-473 528,-473 528,4 -4,4\"/>\n<!-- 0 -->\n<g id=\"node1\" class=\"node\">\n<title>0</title>\n<polygon fill=\"none\" stroke=\"#000000\" points=\"452.5,-469 303.5,-469 303.5,-401 452.5,-401 452.5,-469\"/>\n<text text-anchor=\"middle\" x=\"378\" y=\"-453.8\" font-family=\"Helvetica,sans-Serif\" font-size=\"14.00\" fill=\"#000000\">X[8] &lt;= 0.808</text>\n<text text-anchor=\"middle\" x=\"378\" y=\"-438.8\" font-family=\"Helvetica,sans-Serif\" font-size=\"14.00\" fill=\"#000000\">gini = 0.5</text>\n<text text-anchor=\"middle\" x=\"378\" y=\"-423.8\" font-family=\"Helvetica,sans-Serif\" font-size=\"14.00\" fill=\"#000000\">samples = 8000</text>\n<text text-anchor=\"middle\" x=\"378\" y=\"-408.8\" font-family=\"Helvetica,sans-Serif\" font-size=\"14.00\" fill=\"#000000\">value = [4064, 3936]</text>\n</g>\n<!-- 1 -->\n<g id=\"node2\" class=\"node\">\n<title>1</title>\n<polygon fill=\"none\" stroke=\"#000000\" points=\"373.5,-365 224.5,-365 224.5,-297 373.5,-297 373.5,-365\"/>\n<text text-anchor=\"middle\" x=\"299\" y=\"-349.8\" font-family=\"Helvetica,sans-Serif\" font-size=\"14.00\" fill=\"#000000\">X[14] &lt;= 0.823</text>\n<text text-anchor=\"middle\" x=\"299\" y=\"-334.8\" font-family=\"Helvetica,sans-Serif\" font-size=\"14.00\" fill=\"#000000\">gini = 0.482</text>\n<text text-anchor=\"middle\" x=\"299\" y=\"-319.8\" font-family=\"Helvetica,sans-Serif\" font-size=\"14.00\" fill=\"#000000\">samples = 6493</text>\n<text text-anchor=\"middle\" x=\"299\" y=\"-304.8\" font-family=\"Helvetica,sans-Serif\" font-size=\"14.00\" fill=\"#000000\">value = [2626, 3867]</text>\n</g>\n<!-- 0&#45;&gt;1 -->\n<g id=\"edge1\" class=\"edge\">\n<title>0&#45;&gt;1</title>\n<path fill=\"none\" stroke=\"#000000\" d=\"M352.1324,-400.9465C345.3804,-392.0578 338.0226,-382.3716 330.9941,-373.1188\"/>\n<polygon fill=\"#000000\" stroke=\"#000000\" points=\"333.7617,-370.976 324.9257,-365.13 328.1875,-375.2102 333.7617,-370.976\"/>\n<text text-anchor=\"middle\" x=\"321.5418\" y=\"-386.1999\" font-family=\"Helvetica,sans-Serif\" font-size=\"14.00\" fill=\"#000000\">True</text>\n</g>\n<!-- 2 -->\n<g id=\"node9\" class=\"node\">\n<title>2</title>\n<polygon fill=\"none\" stroke=\"#000000\" points=\"524,-357.5 392,-357.5 392,-304.5 524,-304.5 524,-357.5\"/>\n<text text-anchor=\"middle\" x=\"458\" y=\"-342.3\" font-family=\"Helvetica,sans-Serif\" font-size=\"14.00\" fill=\"#000000\">gini = 0.087</text>\n<text text-anchor=\"middle\" x=\"458\" y=\"-327.3\" font-family=\"Helvetica,sans-Serif\" font-size=\"14.00\" fill=\"#000000\">samples = 1507</text>\n<text text-anchor=\"middle\" x=\"458\" y=\"-312.3\" font-family=\"Helvetica,sans-Serif\" font-size=\"14.00\" fill=\"#000000\">value = [1438, 69]</text>\n</g>\n<!-- 0&#45;&gt;2 -->\n<g id=\"edge8\" class=\"edge\">\n<title>0&#45;&gt;2</title>\n<path fill=\"none\" stroke=\"#000000\" d=\"M404.195,-400.9465C412.9222,-389.6012 422.6487,-376.9567 431.4059,-365.5724\"/>\n<polygon fill=\"#000000\" stroke=\"#000000\" points=\"434.26,-367.6024 437.583,-357.5422 428.7116,-363.3344 434.26,-367.6024\"/>\n<text text-anchor=\"middle\" x=\"440.8164\" y=\"-378.6322\" font-family=\"Helvetica,sans-Serif\" font-size=\"14.00\" fill=\"#000000\">False</text>\n</g>\n<!-- 3 -->\n<g id=\"node3\" class=\"node\">\n<title>3</title>\n<polygon fill=\"none\" stroke=\"#000000\" points=\"294.5,-261 145.5,-261 145.5,-193 294.5,-193 294.5,-261\"/>\n<text text-anchor=\"middle\" x=\"220\" y=\"-245.8\" font-family=\"Helvetica,sans-Serif\" font-size=\"14.00\" fill=\"#000000\">X[11] &lt;= 0.84</text>\n<text text-anchor=\"middle\" x=\"220\" y=\"-230.8\" font-family=\"Helvetica,sans-Serif\" font-size=\"14.00\" fill=\"#000000\">gini = 0.412</text>\n<text text-anchor=\"middle\" x=\"220\" y=\"-215.8\" font-family=\"Helvetica,sans-Serif\" font-size=\"14.00\" fill=\"#000000\">samples = 5378</text>\n<text text-anchor=\"middle\" x=\"220\" y=\"-200.8\" font-family=\"Helvetica,sans-Serif\" font-size=\"14.00\" fill=\"#000000\">value = [1560, 3818]</text>\n</g>\n<!-- 1&#45;&gt;3 -->\n<g id=\"edge2\" class=\"edge\">\n<title>1&#45;&gt;3</title>\n<path fill=\"none\" stroke=\"#000000\" d=\"M273.1324,-296.9465C266.3804,-288.0578 259.0226,-278.3716 251.9941,-269.1188\"/>\n<polygon fill=\"#000000\" stroke=\"#000000\" points=\"254.7617,-266.976 245.9257,-261.13 249.1875,-271.2102 254.7617,-266.976\"/>\n</g>\n<!-- 4 -->\n<g id=\"node8\" class=\"node\">\n<title>4</title>\n<polygon fill=\"none\" stroke=\"#000000\" points=\"445,-253.5 313,-253.5 313,-200.5 445,-200.5 445,-253.5\"/>\n<text text-anchor=\"middle\" x=\"379\" y=\"-238.3\" font-family=\"Helvetica,sans-Serif\" font-size=\"14.00\" fill=\"#000000\">gini = 0.084</text>\n<text text-anchor=\"middle\" x=\"379\" y=\"-223.3\" font-family=\"Helvetica,sans-Serif\" font-size=\"14.00\" fill=\"#000000\">samples = 1115</text>\n<text text-anchor=\"middle\" x=\"379\" y=\"-208.3\" font-family=\"Helvetica,sans-Serif\" font-size=\"14.00\" fill=\"#000000\">value = [1066, 49]</text>\n</g>\n<!-- 1&#45;&gt;4 -->\n<g id=\"edge7\" class=\"edge\">\n<title>1&#45;&gt;4</title>\n<path fill=\"none\" stroke=\"#000000\" d=\"M325.195,-296.9465C333.9222,-285.6012 343.6487,-272.9567 352.4059,-261.5724\"/>\n<polygon fill=\"#000000\" stroke=\"#000000\" points=\"355.26,-263.6024 358.583,-253.5422 349.7116,-259.3344 355.26,-263.6024\"/>\n</g>\n<!-- 5 -->\n<g id=\"node4\" class=\"node\">\n<title>5</title>\n<polygon fill=\"none\" stroke=\"#000000\" points=\"215,-157 75,-157 75,-89 215,-89 215,-157\"/>\n<text text-anchor=\"middle\" x=\"145\" y=\"-141.8\" font-family=\"Helvetica,sans-Serif\" font-size=\"14.00\" fill=\"#000000\">X[24] &lt;= 0.879</text>\n<text text-anchor=\"middle\" x=\"145\" y=\"-126.8\" font-family=\"Helvetica,sans-Serif\" font-size=\"14.00\" fill=\"#000000\">gini = 0.266</text>\n<text text-anchor=\"middle\" x=\"145\" y=\"-111.8\" font-family=\"Helvetica,sans-Serif\" font-size=\"14.00\" fill=\"#000000\">samples = 4492</text>\n<text text-anchor=\"middle\" x=\"145\" y=\"-96.8\" font-family=\"Helvetica,sans-Serif\" font-size=\"14.00\" fill=\"#000000\">value = [710, 3782]</text>\n</g>\n<!-- 3&#45;&gt;5 -->\n<g id=\"edge3\" class=\"edge\">\n<title>3&#45;&gt;5</title>\n<path fill=\"none\" stroke=\"#000000\" d=\"M195.4422,-192.9465C189.0968,-184.1475 182.1879,-174.5672 175.5764,-165.3993\"/>\n<polygon fill=\"#000000\" stroke=\"#000000\" points=\"178.3011,-163.1937 169.613,-157.13 172.6234,-167.2882 178.3011,-163.1937\"/>\n</g>\n<!-- 6 -->\n<g id=\"node7\" class=\"node\">\n<title>6</title>\n<polygon fill=\"none\" stroke=\"#000000\" points=\"357,-149.5 233,-149.5 233,-96.5 357,-96.5 357,-149.5\"/>\n<text text-anchor=\"middle\" x=\"295\" y=\"-134.3\" font-family=\"Helvetica,sans-Serif\" font-size=\"14.00\" fill=\"#000000\">gini = 0.078</text>\n<text text-anchor=\"middle\" x=\"295\" y=\"-119.3\" font-family=\"Helvetica,sans-Serif\" font-size=\"14.00\" fill=\"#000000\">samples = 886</text>\n<text text-anchor=\"middle\" x=\"295\" y=\"-104.3\" font-family=\"Helvetica,sans-Serif\" font-size=\"14.00\" fill=\"#000000\">value = [850, 36]</text>\n</g>\n<!-- 3&#45;&gt;6 -->\n<g id=\"edge6\" class=\"edge\">\n<title>3&#45;&gt;6</title>\n<path fill=\"none\" stroke=\"#000000\" d=\"M244.5578,-192.9465C252.6601,-181.7113 261.6812,-169.2021 269.8286,-157.9043\"/>\n<polygon fill=\"#000000\" stroke=\"#000000\" points=\"272.8486,-159.7003 275.859,-149.5422 267.1709,-155.6058 272.8486,-159.7003\"/>\n</g>\n<!-- 7 -->\n<g id=\"node5\" class=\"node\">\n<title>7</title>\n<polygon fill=\"none\" stroke=\"#000000\" points=\"140,-53 0,-53 0,0 140,0 140,-53\"/>\n<text text-anchor=\"middle\" x=\"70\" y=\"-37.8\" font-family=\"Helvetica,sans-Serif\" font-size=\"14.00\" fill=\"#000000\">gini = 0.079</text>\n<text text-anchor=\"middle\" x=\"70\" y=\"-22.8\" font-family=\"Helvetica,sans-Serif\" font-size=\"14.00\" fill=\"#000000\">samples = 3914</text>\n<text text-anchor=\"middle\" x=\"70\" y=\"-7.8\" font-family=\"Helvetica,sans-Serif\" font-size=\"14.00\" fill=\"#000000\">value = [162, 3752]</text>\n</g>\n<!-- 5&#45;&gt;7 -->\n<g id=\"edge4\" class=\"edge\">\n<title>5&#45;&gt;7</title>\n<path fill=\"none\" stroke=\"#000000\" d=\"M118.5578,-88.9777C111.5833,-80.0039 104.0484,-70.3089 97.0427,-61.295\"/>\n<polygon fill=\"#000000\" stroke=\"#000000\" points=\"99.6891,-58.9964 90.789,-53.2485 94.1621,-63.292 99.6891,-58.9964\"/>\n</g>\n<!-- 8 -->\n<g id=\"node6\" class=\"node\">\n<title>8</title>\n<polygon fill=\"none\" stroke=\"#000000\" points=\"282,-53 158,-53 158,0 282,0 282,-53\"/>\n<text text-anchor=\"middle\" x=\"220\" y=\"-37.8\" font-family=\"Helvetica,sans-Serif\" font-size=\"14.00\" fill=\"#000000\">gini = 0.098</text>\n<text text-anchor=\"middle\" x=\"220\" y=\"-22.8\" font-family=\"Helvetica,sans-Serif\" font-size=\"14.00\" fill=\"#000000\">samples = 578</text>\n<text text-anchor=\"middle\" x=\"220\" y=\"-7.8\" font-family=\"Helvetica,sans-Serif\" font-size=\"14.00\" fill=\"#000000\">value = [548, 30]</text>\n</g>\n<!-- 5&#45;&gt;8 -->\n<g id=\"edge5\" class=\"edge\">\n<title>5&#45;&gt;8</title>\n<path fill=\"none\" stroke=\"#000000\" d=\"M171.4422,-88.9777C178.4167,-80.0039 185.9516,-70.3089 192.9573,-61.295\"/>\n<polygon fill=\"#000000\" stroke=\"#000000\" points=\"195.8379,-63.292 199.211,-53.2485 190.3109,-58.9964 195.8379,-63.292\"/>\n</g>\n</g>\n</svg>\n"
          },
          "metadata": {},
          "execution_count": 29
        }
      ]
    },
    {
      "cell_type": "code",
      "source": [
        "from sklearn.metrics import classification_report"
      ],
      "metadata": {
        "id": "ugqyBVOleEfJ"
      },
      "execution_count": 31,
      "outputs": []
    },
    {
      "cell_type": "code",
      "source": [
        "classification_report(y_test,y_pred)"
      ],
      "metadata": {
        "colab": {
          "base_uri": "https://localhost:8080/",
          "height": 70
        },
        "id": "reUPyXm3i3PW",
        "outputId": "1b4faaca-268f-44fa-cf95-e2158fb29172"
      },
      "execution_count": 32,
      "outputs": [
        {
          "output_type": "execute_result",
          "data": {
            "text/plain": [
              "'              precision    recall  f1-score   support\\n\\n         0.0       0.96      0.97      0.96      1030\\n         1.0       0.96      0.96      0.96       970\\n\\n    accuracy                           0.96      2000\\n   macro avg       0.96      0.96      0.96      2000\\nweighted avg       0.96      0.96      0.96      2000\\n'"
            ],
            "application/vnd.google.colaboratory.intrinsic+json": {
              "type": "string"
            }
          },
          "metadata": {},
          "execution_count": 32
        }
      ]
    },
    {
      "cell_type": "code",
      "source": [
        ""
      ],
      "metadata": {
        "id": "g9wVRMRrjPor"
      },
      "execution_count": null,
      "outputs": []
    }
  ]
}